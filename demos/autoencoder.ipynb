{
 "cells": [
  {
   "cell_type": "code",
   "execution_count": 1,
   "metadata": {},
   "outputs": [
    {
     "name": "stdout",
     "output_type": "stream",
     "text": [
      "c:\\Users\\hector.papoulias\\Desktop\\Docs\\Repos\\transaction_anomaly_detection\\demos\n",
      "c:\\Users\\hector.papoulias\\Desktop\\Docs\\Repos\\transaction_anomaly_detection\n"
     ]
    }
   ],
   "source": [
    "import os\n",
    "from pathlib import Path\n",
    "\n",
    "cwd = Path(os.getcwd())\n",
    "print(cwd)` `\n",
    "root = cwd.parent\n",
    "os.chdir(root)\n",
    "print(root)"
   ]
  },
  {
   "cell_type": "code",
   "execution_count": 2,
   "metadata": {},
   "outputs": [],
   "source": [
    "import seaborn as sns\n",
    "sns.set_theme(style=\"whitegrid\", palette=\"dark:#5A9_r\")"
   ]
  },
  {
   "cell_type": "markdown",
   "metadata": {},
   "source": [
    "# Synthetic Data Generation"
   ]
  },
  {
   "cell_type": "markdown",
   "metadata": {},
   "source": [
    "The values of *categorical_feature_1* follow a uniform distribution:\n",
    "\n",
    "\\begin{equation}\n",
    "\\textit{categorical\\_feature\\_1} \\sim \\mathcal{U} \\left( \\{0,1,2,3,4,5\\} \\right)\n",
    "\\end{equation}\n",
    "\n",
    "This holds for <span style=\"color: green;\">normal</span> and <span style=\"color: red;\">anomalous</span> datapoints alike.\n",
    "\n",
    "In <span style=\"color: green;\">normal</span> data points, *categorical_feature_2* is derived from *categorical feature_1* via:\n",
    "\n",
    "\\begin{equation}\n",
    "  \\textit{cat\\_map\\_normal} =\n",
    "    \\begin{cases}\n",
    "      0 & \\mapsto \\mathrm{fraud}\\\\\n",
    "      1 & \\mapsto \\mathrm{has}\\\\\n",
    "      2 & \\mapsto \\mathrm{no}\\\\\n",
    "      3 & \\mapsto \\mathrm{place}\\\\\n",
    "      4 & \\mapsto \\mathrm{to}\\\\\n",
    "      5 & \\mapsto \\mathrm{hide}\n",
    "    \\end{cases}       \n",
    "\\end{equation}\n",
    "\n",
    "In <span style=\"color: red;\">anomalous</span> datapoints, this mapping is distorted to:\n",
    "\n",
    "\\begin{equation}\n",
    "  \\textit{cat\\_map\\_anomaly} =\n",
    "    \\begin{cases}\n",
    "      0 & \\mapsto \\mathrm{hide}\\\\\n",
    "      1 & \\mapsto \\mathrm{fraud}\\\\\n",
    "      2 & \\mapsto \\mathrm{fraud}\\\\\n",
    "      3 & \\mapsto \\mathrm{fraud}\\\\\n",
    "      4 & \\mapsto \\mathrm{fraud}\\\\\n",
    "      5 & \\mapsto \\mathrm{fraud}\n",
    "    \\end{cases}       \n",
    "\\end{equation}\n",
    "\n",
    "This is the most prevalent <span style=\"color: red;\">anomaly</span> introduced in the synthetic dataset.\n",
    "\n",
    "For <span style=\"color: green;\">normal</span> data points, the values of *continuous_feature* follow:\n",
    "\\begin{equation}\n",
    "\\textit{continuous\\_feature} \\; \\sim \\: \\mathcal{N}(0,1).\n",
    "\\end{equation}\n",
    "\n",
    "For <span style=\"color: red;\">anomalous</span> data points, they follow:\n",
    "\\begin{equation}\n",
    "\\textit{continuous\\_feature} \\; \\sim \\: \\mathcal{N}(-0.1,0.0001).\n",
    "\\end{equation}\n",
    "\n",
    "This <span style=\"color: red;\">anomaly</span> is subtle: <span style=\"color: red;\">anomalous</span> records have *continuous_feature* values misleadingly close to the <span style=\"color: green;\">normal</span> record mean"
   ]
  },
  {
   "cell_type": "code",
   "execution_count": 3,
   "metadata": {},
   "outputs": [
    {
     "data": {
      "text/html": [
       "<div>\n",
       "<style scoped>\n",
       "    .dataframe tbody tr th:only-of-type {\n",
       "        vertical-align: middle;\n",
       "    }\n",
       "\n",
       "    .dataframe tbody tr th {\n",
       "        vertical-align: top;\n",
       "    }\n",
       "\n",
       "    .dataframe thead th {\n",
       "        text-align: right;\n",
       "    }\n",
       "</style>\n",
       "<table border=\"1\" class=\"dataframe\">\n",
       "  <thead>\n",
       "    <tr style=\"text-align: right;\">\n",
       "      <th></th>\n",
       "      <th>continuous_feature</th>\n",
       "      <th>categorical_feature_1</th>\n",
       "      <th>categorical_feature_2</th>\n",
       "      <th>anomaly</th>\n",
       "    </tr>\n",
       "  </thead>\n",
       "  <tbody>\n",
       "    <tr>\n",
       "      <th>record_0</th>\n",
       "      <td>0.176405</td>\n",
       "      <td>5</td>\n",
       "      <td>hide</td>\n",
       "      <td>False</td>\n",
       "    </tr>\n",
       "    <tr>\n",
       "      <th>record_1</th>\n",
       "      <td>0.040016</td>\n",
       "      <td>1</td>\n",
       "      <td>has</td>\n",
       "      <td>False</td>\n",
       "    </tr>\n",
       "    <tr>\n",
       "      <th>record_2</th>\n",
       "      <td>0.097874</td>\n",
       "      <td>5</td>\n",
       "      <td>hide</td>\n",
       "      <td>False</td>\n",
       "    </tr>\n",
       "    <tr>\n",
       "      <th>record_3</th>\n",
       "      <td>0.224089</td>\n",
       "      <td>2</td>\n",
       "      <td>no</td>\n",
       "      <td>False</td>\n",
       "    </tr>\n",
       "    <tr>\n",
       "      <th>record_4</th>\n",
       "      <td>0.186756</td>\n",
       "      <td>4</td>\n",
       "      <td>to</td>\n",
       "      <td>False</td>\n",
       "    </tr>\n",
       "    <tr>\n",
       "      <th>...</th>\n",
       "      <td>...</td>\n",
       "      <td>...</td>\n",
       "      <td>...</td>\n",
       "      <td>...</td>\n",
       "    </tr>\n",
       "    <tr>\n",
       "      <th>record_10095</th>\n",
       "      <td>-0.099882</td>\n",
       "      <td>5</td>\n",
       "      <td>fraud</td>\n",
       "      <td>True</td>\n",
       "    </tr>\n",
       "    <tr>\n",
       "      <th>record_10096</th>\n",
       "      <td>-0.099985</td>\n",
       "      <td>5</td>\n",
       "      <td>fraud</td>\n",
       "      <td>True</td>\n",
       "    </tr>\n",
       "    <tr>\n",
       "      <th>record_10097</th>\n",
       "      <td>-0.099960</td>\n",
       "      <td>2</td>\n",
       "      <td>fraud</td>\n",
       "      <td>True</td>\n",
       "    </tr>\n",
       "    <tr>\n",
       "      <th>record_10098</th>\n",
       "      <td>-0.099966</td>\n",
       "      <td>4</td>\n",
       "      <td>fraud</td>\n",
       "      <td>True</td>\n",
       "    </tr>\n",
       "    <tr>\n",
       "      <th>record_10099</th>\n",
       "      <td>-0.099978</td>\n",
       "      <td>4</td>\n",
       "      <td>fraud</td>\n",
       "      <td>True</td>\n",
       "    </tr>\n",
       "  </tbody>\n",
       "</table>\n",
       "<p>10100 rows × 4 columns</p>\n",
       "</div>"
      ],
      "text/plain": [
       "              continuous_feature categorical_feature_1 categorical_feature_2  \\\n",
       "record_0                0.176405                     5                  hide   \n",
       "record_1                0.040016                     1                   has   \n",
       "record_2                0.097874                     5                  hide   \n",
       "record_3                0.224089                     2                    no   \n",
       "record_4                0.186756                     4                    to   \n",
       "...                          ...                   ...                   ...   \n",
       "record_10095           -0.099882                     5                 fraud   \n",
       "record_10096           -0.099985                     5                 fraud   \n",
       "record_10097           -0.099960                     2                 fraud   \n",
       "record_10098           -0.099966                     4                 fraud   \n",
       "record_10099           -0.099978                     4                 fraud   \n",
       "\n",
       "              anomaly  \n",
       "record_0        False  \n",
       "record_1        False  \n",
       "record_2        False  \n",
       "record_3        False  \n",
       "record_4        False  \n",
       "...               ...  \n",
       "record_10095     True  \n",
       "record_10096     True  \n",
       "record_10097     True  \n",
       "record_10098     True  \n",
       "record_10099     True  \n",
       "\n",
       "[10100 rows x 4 columns]"
      ]
     },
     "execution_count": 3,
     "metadata": {},
     "output_type": "execute_result"
    }
   ],
   "source": [
    "import pandas as pd\n",
    "import numpy as np\n",
    "\n",
    "n_normal_datapoints = 10000\n",
    "n_anomalous_datapoints = 100\n",
    "\n",
    "np.random.seed(0)\n",
    "\n",
    "# Generate in-distribution data\n",
    "data_normal = {\n",
    "    'continuous_feature': np.random.normal(loc=0, scale=0.1, size=n_normal_datapoints),\n",
    "    'categorical_feature_1': np.random.randint(low=1, high=6, size=n_normal_datapoints)\n",
    "}\n",
    "df_normal = pd.DataFrame(data_normal)\n",
    "df_normal['categorical_feature_1']=df_normal['categorical_feature_1'].apply(\n",
    "    lambda x: str(x)\n",
    "    )\n",
    "cat_map_normal = {\n",
    "    '0': 'fraud',\n",
    "    '1': 'has',\n",
    "    '2': 'no',\n",
    "    '3': 'place',\n",
    "    '4': 'to',\n",
    "    '5': 'hide'\n",
    "}\n",
    "df_normal['categorical_feature_2']=df_normal['categorical_feature_1'].apply(\n",
    "    lambda x: cat_map_normal[x]\n",
    "    )\n",
    "df_normal['anomaly']=False\n",
    "\n",
    "# Generate out-of-distribution data\n",
    "data_anomalies = {\n",
    "    'continuous_feature': -0.1 + np.random.normal(loc=0, scale=0.0001, size=n_anomalous_datapoints),\n",
    "    'categorical_feature_1': np.random.randint(low=1, high=6, size=n_anomalous_datapoints)\n",
    "}\n",
    "df_anomalies = pd.DataFrame(data_anomalies)\n",
    "df_anomalies['categorical_feature_1']=df_anomalies['categorical_feature_1'].apply(\n",
    "    lambda x: str(x)\n",
    "    )\n",
    "cat_map_anomaly = {\n",
    "    '0': 'hide',\n",
    "    '1': 'fraud',\n",
    "    '2': 'fraud',\n",
    "    '3': 'fraud',\n",
    "    '4': 'fraud',\n",
    "    '5': 'fraud'\n",
    "}\n",
    "df_anomalies['categorical_feature_2']=df_anomalies['categorical_feature_1'].apply(\n",
    "    lambda x: cat_map_anomaly[x]\n",
    "    )\n",
    "df_anomalies['anomaly']=True\n",
    "\n",
    "df=pd.concat([df_normal,df_anomalies]).reset_index(drop=True)\n",
    "df.index = [f'record_{x}' for x in df.index.tolist()]\n",
    "df"
   ]
  },
  {
   "cell_type": "markdown",
   "metadata": {},
   "source": [
    "# Model Demo"
   ]
  },
  {
   "cell_type": "markdown",
   "metadata": {},
   "source": [
    "## Initialization"
   ]
  },
  {
   "cell_type": "code",
   "execution_count": 5,
   "metadata": {},
   "outputs": [],
   "source": [
    "from transaction_anomaly_detection.models import TransactionAnomalyDetector\n",
    "import torch.nn as nn\n",
    "\n",
    "anomaly_detector = TransactionAnomalyDetector(\n",
    "    dict_cat_feature_to_ls_categories_n_embd={\n",
    "    'categorical_feature_1': (['0', '1', '2', '3', '4', '5'], 4),\n",
    "    'categorical_feature_2': (['fraud', 'has', 'no', 'place', 'to', 'hide'], 4)\n",
    "        },\n",
    "    ls_con_features= ['continuous_feature'],\n",
    "    encoder_layer_szs=[512, 128, 32, 8],\n",
    "    ae_activation=nn.LeakyReLU(0.01),\n",
    "    dropout_rate=0.3,\n",
    "    batchswap_noise_rate=0.4\n",
    "    )"
   ]
  },
  {
   "cell_type": "markdown",
   "metadata": {},
   "source": [
    "## Public Attributes"
   ]
  },
  {
   "cell_type": "code",
   "execution_count": 34,
   "metadata": {},
   "outputs": [
    {
     "name": "stdout",
     "output_type": "stream",
     "text": [
      "Autoencoder architecture: \n",
      "\n",
      "Autoencoder(\n",
      "  (_loss): ReconstructionLoss()\n",
      "  (_batchswap_noise): BatchSwapNoise(swap_rate = 0.3)\n",
      "  (_cat_preprocessor): ModuleDict(\n",
      "    (embeddings): ModuleList(\n",
      "      (0-1): 2 x Embedding(6, 4)\n",
      "    )\n",
      "    (dropout): Dropout(p=0.1, inplace=False)\n",
      "  )\n",
      "  (_con_preprocessor): ModuleDict(\n",
      "    (normalizer): ContinuousFeatureNormalizer()\n",
      "    (batch_norm): BatchNorm1d(1, eps=1e-05, momentum=0.1, affine=True, track_running_stats=True)\n",
      "  )\n",
      "  (_standard_autoencoder): ModuleDict(\n",
      "    (encoder): Sequential(\n",
      "      (0): LinBnDrop(\n",
      "        (_fc): Linear(in_features=9, out_features=512, bias=True)\n",
      "        (_bn): BatchNorm1d(512, eps=1e-05, momentum=0.1, affine=True, track_running_stats=True)\n",
      "        (_activation): LeakyReLU(negative_slope=0.01)\n",
      "        (_dropout): Dropout(p=0.1, inplace=False)\n",
      "      )\n",
      "      (1): LinBnDrop(\n",
      "        (_fc): Linear(in_features=512, out_features=128, bias=True)\n",
      "        (_bn): BatchNorm1d(128, eps=1e-05, momentum=0.1, affine=True, track_running_stats=True)\n",
      "        (_activation): LeakyReLU(negative_slope=0.01)\n",
      "        (_dropout): Dropout(p=0.1, inplace=False)\n",
      "      )\n",
      "      (2): LinBnDrop(\n",
      "        (_fc): Linear(in_features=128, out_features=32, bias=True)\n",
      "        (_bn): BatchNorm1d(32, eps=1e-05, momentum=0.1, affine=True, track_running_stats=True)\n",
      "        (_activation): LeakyReLU(negative_slope=0.01)\n",
      "        (_dropout): Dropout(p=0.1, inplace=False)\n",
      "      )\n",
      "      (3): LinBnDrop(\n",
      "        (_fc): Linear(in_features=32, out_features=8, bias=True)\n",
      "        (_bn): BatchNorm1d(8, eps=1e-05, momentum=0.1, affine=True, track_running_stats=True)\n",
      "        (_activation): LeakyReLU(negative_slope=0.01)\n",
      "        (_dropout): Dropout(p=0.1, inplace=False)\n",
      "      )\n",
      "      (4): LinBnDrop(\n",
      "        (_fc): Linear(in_features=8, out_features=4, bias=True)\n",
      "        (_bn): BatchNorm1d(4, eps=1e-05, momentum=0.1, affine=True, track_running_stats=True)\n",
      "        (_activation): LeakyReLU(negative_slope=0.01)\n",
      "        (_dropout): Dropout(p=0.1, inplace=False)\n",
      "      )\n",
      "    )\n",
      "    (decoder): Sequential(\n",
      "      (0): LinBnDrop(\n",
      "        (_fc): Linear(in_features=4, out_features=8, bias=True)\n",
      "        (_bn): BatchNorm1d(8, eps=1e-05, momentum=0.1, affine=True, track_running_stats=True)\n",
      "        (_activation): LeakyReLU(negative_slope=0.01)\n",
      "        (_dropout): Dropout(p=0.1, inplace=False)\n",
      "      )\n",
      "      (1): LinBnDrop(\n",
      "        (_fc): Linear(in_features=8, out_features=32, bias=True)\n",
      "        (_bn): BatchNorm1d(32, eps=1e-05, momentum=0.1, affine=True, track_running_stats=True)\n",
      "        (_activation): LeakyReLU(negative_slope=0.01)\n",
      "        (_dropout): Dropout(p=0.1, inplace=False)\n",
      "      )\n",
      "      (2): LinBnDrop(\n",
      "        (_fc): Linear(in_features=32, out_features=128, bias=True)\n",
      "        (_bn): BatchNorm1d(128, eps=1e-05, momentum=0.1, affine=True, track_running_stats=True)\n",
      "        (_activation): LeakyReLU(negative_slope=0.01)\n",
      "        (_dropout): Dropout(p=0.1, inplace=False)\n",
      "      )\n",
      "      (3): LinBnDrop(\n",
      "        (_fc): Linear(in_features=128, out_features=512, bias=True)\n",
      "        (_bn): BatchNorm1d(512, eps=1e-05, momentum=0.1, affine=True, track_running_stats=True)\n",
      "        (_activation): LeakyReLU(negative_slope=0.01)\n",
      "        (_dropout): Dropout(p=0.1, inplace=False)\n",
      "      )\n",
      "      (4): LinBnDrop(\n",
      "        (_fc): Linear(in_features=512, out_features=9, bias=True)\n",
      "        (_bn): BatchNorm1d(9, eps=1e-05, momentum=0.1, affine=True, track_running_stats=True)\n",
      "        (_activation): LeakyReLU(negative_slope=0.01)\n",
      "        (_dropout): Dropout(p=0.1, inplace=False)\n",
      "      )\n",
      "    )\n",
      "  )\n",
      "  (_con_postprocessor): ModuleDict(\n",
      "    (t_decoded_to_zscores): Sequential(\n",
      "      (0): LinBnDrop(\n",
      "        (_fc): Linear(in_features=9, out_features=1, bias=True)\n",
      "        (_dropout): Dropout(p=0, inplace=False)\n",
      "      )\n",
      "      (1): ShiftedSigmoid()\n",
      "    )\n",
      "  )\n",
      "  (_cat_postprocessor): ModuleDict(\n",
      "    (t_decoded_to_logits): Sequential(\n",
      "      (0): Dropout(p=0.1, inplace=False)\n",
      "      (1): Linear(in_features=9, out_features=12, bias=True)\n",
      "    )\n",
      "  )\n",
      ")\n"
     ]
    }
   ],
   "source": [
    "print('Autoencoder architecture: \\n')\n",
    "print(anomaly_detector.autoencoder_architecture)"
   ]
  },
  {
   "cell_type": "code",
   "execution_count": null,
   "metadata": {},
   "outputs": [],
   "source": [
    "print(f'n_params: {anomaly_detector.get_n_params()}')"
   ]
  },
  {
   "cell_type": "code",
   "execution_count": 35,
   "metadata": {},
   "outputs": [
    {
     "name": "stdout",
     "output_type": "stream",
     "text": [
      "Model has categorical features: True\n"
     ]
    }
   ],
   "source": [
    "print(f'Model has categorical features: {anomaly_detector.has_cat}')"
   ]
  },
  {
   "cell_type": "code",
   "execution_count": 36,
   "metadata": {},
   "outputs": [
    {
     "name": "stdout",
     "output_type": "stream",
     "text": [
      "Categorical features: ['categorical_feature_1', 'categorical_feature_2']\n"
     ]
    }
   ],
   "source": [
    "print(f'Categorical features: {anomaly_detector.ls_cat_features}')"
   ]
  },
  {
   "cell_type": "code",
   "execution_count": 37,
   "metadata": {},
   "outputs": [
    {
     "name": "stdout",
     "output_type": "stream",
     "text": [
      "Categories by categorical feature: {'categorical_feature_1': ['0', '1', '2', '3', '4', '5'], 'categorical_feature_2': ['fraud', 'has', 'no', 'place', 'to', 'hide']}\n"
     ]
    }
   ],
   "source": [
    "print(f'Categories by categorical feature: {anomaly_detector.dict_cat_feature_to_ls_categories}')"
   ]
  },
  {
   "cell_type": "code",
   "execution_count": 38,
   "metadata": {},
   "outputs": [
    {
     "name": "stdout",
     "output_type": "stream",
     "text": [
      "Embedding dimension by categorical feature: {'categorical_feature_1': 4, 'categorical_feature_2': 4}\n"
     ]
    }
   ],
   "source": [
    "print(f'Embedding dimension by categorical feature: {anomaly_detector.dict_cat_feature_to_n_embd}')"
   ]
  },
  {
   "cell_type": "code",
   "execution_count": 39,
   "metadata": {},
   "outputs": [
    {
     "name": "stdout",
     "output_type": "stream",
     "text": [
      "Model has continuous features: True\n"
     ]
    }
   ],
   "source": [
    "print(f'Model has continuous features: {anomaly_detector.has_con}')"
   ]
  },
  {
   "cell_type": "code",
   "execution_count": 40,
   "metadata": {},
   "outputs": [
    {
     "name": "stdout",
     "output_type": "stream",
     "text": [
      "Continuous features: ['continuous_feature']\n"
     ]
    }
   ],
   "source": [
    "print(f'Continuous features: {anomaly_detector.ls_con_features}')"
   ]
  },
  {
   "cell_type": "code",
   "execution_count": 41,
   "metadata": {},
   "outputs": [
    {
     "name": "stdout",
     "output_type": "stream",
     "text": [
      "Continuous feature statistics:\n"
     ]
    },
    {
     "data": {
      "text/html": [
       "<div>\n",
       "<style scoped>\n",
       "    .dataframe tbody tr th:only-of-type {\n",
       "        vertical-align: middle;\n",
       "    }\n",
       "\n",
       "    .dataframe tbody tr th {\n",
       "        vertical-align: top;\n",
       "    }\n",
       "\n",
       "    .dataframe thead th {\n",
       "        text-align: right;\n",
       "    }\n",
       "</style>\n",
       "<table border=\"1\" class=\"dataframe\">\n",
       "  <thead>\n",
       "    <tr style=\"text-align: right;\">\n",
       "      <th></th>\n",
       "      <th>mean</th>\n",
       "      <th>std</th>\n",
       "      <th>min</th>\n",
       "      <th>max</th>\n",
       "    </tr>\n",
       "  </thead>\n",
       "  <tbody>\n",
       "    <tr>\n",
       "      <th>continuous_feature</th>\n",
       "      <td>0</td>\n",
       "      <td>1</td>\n",
       "      <td>-1</td>\n",
       "      <td>1</td>\n",
       "    </tr>\n",
       "  </tbody>\n",
       "</table>\n",
       "</div>"
      ],
      "text/plain": [
       "                    mean  std  min  max\n",
       "continuous_feature     0    1   -1    1"
      ]
     },
     "execution_count": 41,
     "metadata": {},
     "output_type": "execute_result"
    }
   ],
   "source": [
    "print('Continuous feature statistics:')\n",
    "anomaly_detector.df_con_stats\n",
    "# The values presented are defaults.\n",
    "# They are updated once the model is given access to data."
   ]
  },
  {
   "cell_type": "code",
   "execution_count": 42,
   "metadata": {},
   "outputs": [
    {
     "name": "stdout",
     "output_type": "stream",
     "text": [
      "Reconstruction Loss Threshold for Anomaly Detection: nan\n"
     ]
    }
   ],
   "source": [
    "print(f'Reconstruction Loss Threshold for Anomaly Detection: {anomaly_detector.reconstruction_loss_threshold}')"
   ]
  },
  {
   "cell_type": "markdown",
   "metadata": {},
   "source": [
    "## Training"
   ]
  },
  {
   "cell_type": "code",
   "execution_count": 6,
   "metadata": {},
   "outputs": [
    {
     "data": {
      "application/vnd.jupyter.widget-view+json": {
       "model_id": "f011e0130546435491d9fbe7337b4ebc",
       "version_major": 2,
       "version_minor": 0
      },
      "text/plain": [
       "Training:   0%|          | 0/1 [00:00<?, ?it/s]"
      ]
     },
     "metadata": {},
     "output_type": "display_data"
    },
    {
     "name": "stdout",
     "output_type": "stream",
     "text": [
      "Min Val Loss @Epoch 1181: 0.6699737851867242 \n"
     ]
    }
   ],
   "source": [
    "import numpy as np\n",
    "\n",
    "dict_loss_evolution = anomaly_detector.fit(\n",
    "    df_dataset=df,\n",
    "    sz_batch=512,\n",
    "    learning_rate=0.001,\n",
    "    patience=100,\n",
    "    loss_delta_threshold=0.001,\n",
    "    max_n_epochs=np.inf,\n",
    "    val_ratio=0.25,\n",
    "    contamination=0.01,\n",
    "    verbose=False\n",
    "    )"
   ]
  },
  {
   "cell_type": "code",
   "execution_count": 7,
   "metadata": {},
   "outputs": [
    {
     "name": "stdout",
     "output_type": "stream",
     "text": [
      "Continuous feature statistics:\n"
     ]
    },
    {
     "data": {
      "text/html": [
       "<div>\n",
       "<style scoped>\n",
       "    .dataframe tbody tr th:only-of-type {\n",
       "        vertical-align: middle;\n",
       "    }\n",
       "\n",
       "    .dataframe tbody tr th {\n",
       "        vertical-align: top;\n",
       "    }\n",
       "\n",
       "    .dataframe thead th {\n",
       "        text-align: right;\n",
       "    }\n",
       "</style>\n",
       "<table border=\"1\" class=\"dataframe\">\n",
       "  <thead>\n",
       "    <tr style=\"text-align: right;\">\n",
       "      <th></th>\n",
       "      <th>mean</th>\n",
       "      <th>std</th>\n",
       "      <th>min</th>\n",
       "      <th>max</th>\n",
       "    </tr>\n",
       "  </thead>\n",
       "  <tbody>\n",
       "    <tr>\n",
       "      <th>continuous_feature</th>\n",
       "      <td>-0.002815</td>\n",
       "      <td>0.098745</td>\n",
       "      <td>-0.37401</td>\n",
       "      <td>0.380166</td>\n",
       "    </tr>\n",
       "  </tbody>\n",
       "</table>\n",
       "</div>"
      ],
      "text/plain": [
       "                        mean       std      min       max\n",
       "continuous_feature -0.002815  0.098745 -0.37401  0.380166"
      ]
     },
     "execution_count": 7,
     "metadata": {},
     "output_type": "execute_result"
    }
   ],
   "source": [
    "print('Continuous feature statistics:')\n",
    "anomaly_detector.df_con_stats"
   ]
  },
  {
   "cell_type": "code",
   "execution_count": 8,
   "metadata": {},
   "outputs": [
    {
     "name": "stdout",
     "output_type": "stream",
     "text": [
      "Reconstruction Loss Threshold for Anomaly Detection: 1.8044028537329933\n"
     ]
    }
   ],
   "source": [
    "print(f'Reconstruction Loss Threshold for Anomaly Detection: {anomaly_detector.reconstruction_loss_threshold}')"
   ]
  },
  {
   "cell_type": "code",
   "execution_count": 26,
   "metadata": {},
   "outputs": [
    {
     "data": {
      "text/plain": [
       "<matplotlib.legend.Legend at 0x229e1658c90>"
      ]
     },
     "execution_count": 26,
     "metadata": {},
     "output_type": "execute_result"
    },
    {
     "data": {
      "image/png": "[encoded data removed]",
      "text/plain": [
       "<Figure size 1200x600 with 1 Axes>"
      ]
     },
     "metadata": {},
     "output_type": "display_data"
    }
   ],
   "source": [
    "import pandas as pd\n",
    "import matplotlib.pyplot as plt\n",
    "\n",
    "fig, ax = plt.subplots(\n",
    "    ncols=1,\n",
    "    nrows=1,\n",
    "    figsize=(12,6)\n",
    ")\n",
    "\n",
    "dict_loss_evolution['train'].plot(ax = ax, rot=90, color='red')\n",
    "dict_loss_evolution['val'].plot(ax = ax, rot=90, color='green')\n",
    "\n",
    "plt.title('Reconstruction Loss Evolution')\n",
    "plt.legend([\"Train Loss\", \"Validation Loss\"])\n"
   ]
  },
  {
   "cell_type": "markdown",
   "metadata": {},
   "source": [
    "## Refitting the Reconstruction Loss Threshold"
   ]
  },
  {
   "cell_type": "code",
   "execution_count": 27,
   "metadata": {},
   "outputs": [
    {
     "name": "stdout",
     "output_type": "stream",
     "text": [
      "Reconstruction Loss Threshold for Anomaly Detection: 1.8044028537329933\n"
     ]
    }
   ],
   "source": [
    "anomaly_detector.fit_reconstruction_loss_threshold(\n",
    "    df_dataset=df,\n",
    "    contamination=0.01\n",
    "    )\n",
    "print(f'Reconstruction Loss Threshold for Anomaly Detection: {anomaly_detector.reconstruction_loss_threshold}')"
   ]
  },
  {
   "cell_type": "markdown",
   "metadata": {},
   "source": [
    "## Reconstruction Loss Computations"
   ]
  },
  {
   "cell_type": "code",
   "execution_count": 10,
   "metadata": {},
   "outputs": [
    {
     "data": {
      "text/html": [
       "<div>\n",
       "<style scoped>\n",
       "    .dataframe tbody tr th:only-of-type {\n",
       "        vertical-align: middle;\n",
       "    }\n",
       "\n",
       "    .dataframe tbody tr th {\n",
       "        vertical-align: top;\n",
       "    }\n",
       "\n",
       "    .dataframe thead th {\n",
       "        text-align: right;\n",
       "    }\n",
       "</style>\n",
       "<table border=\"1\" class=\"dataframe\">\n",
       "  <thead>\n",
       "    <tr style=\"text-align: right;\">\n",
       "      <th></th>\n",
       "      <th>continuous_feature</th>\n",
       "      <th>categorical_feature_1</th>\n",
       "      <th>categorical_feature_2</th>\n",
       "      <th>anomaly</th>\n",
       "    </tr>\n",
       "  </thead>\n",
       "  <tbody>\n",
       "    <tr>\n",
       "      <th>record_0</th>\n",
       "      <td>0.176405</td>\n",
       "      <td>5</td>\n",
       "      <td>hide</td>\n",
       "      <td>False</td>\n",
       "    </tr>\n",
       "    <tr>\n",
       "      <th>record_1</th>\n",
       "      <td>0.040016</td>\n",
       "      <td>1</td>\n",
       "      <td>has</td>\n",
       "      <td>False</td>\n",
       "    </tr>\n",
       "    <tr>\n",
       "      <th>record_2</th>\n",
       "      <td>0.097874</td>\n",
       "      <td>5</td>\n",
       "      <td>hide</td>\n",
       "      <td>False</td>\n",
       "    </tr>\n",
       "    <tr>\n",
       "      <th>record_3</th>\n",
       "      <td>0.224089</td>\n",
       "      <td>2</td>\n",
       "      <td>no</td>\n",
       "      <td>False</td>\n",
       "    </tr>\n",
       "    <tr>\n",
       "      <th>record_4</th>\n",
       "      <td>0.186756</td>\n",
       "      <td>4</td>\n",
       "      <td>to</td>\n",
       "      <td>False</td>\n",
       "    </tr>\n",
       "  </tbody>\n",
       "</table>\n",
       "</div>"
      ],
      "text/plain": [
       "          continuous_feature categorical_feature_1 categorical_feature_2  \\\n",
       "record_0            0.176405                     5                  hide   \n",
       "record_1            0.040016                     1                   has   \n",
       "record_2            0.097874                     5                  hide   \n",
       "record_3            0.224089                     2                    no   \n",
       "record_4            0.186756                     4                    to   \n",
       "\n",
       "          anomaly  \n",
       "record_0    False  \n",
       "record_1    False  \n",
       "record_2    False  \n",
       "record_3    False  \n",
       "record_4    False  "
      ]
     },
     "execution_count": 10,
     "metadata": {},
     "output_type": "execute_result"
    }
   ],
   "source": [
    "df_records_for_loss_computation = df.iloc[:5,:]\n",
    "\n",
    "df_records_for_loss_computation"
   ]
  },
  {
   "cell_type": "code",
   "execution_count": 11,
   "metadata": {},
   "outputs": [
    {
     "data": {
      "text/html": [
       "<div>\n",
       "<style scoped>\n",
       "    .dataframe tbody tr th:only-of-type {\n",
       "        vertical-align: middle;\n",
       "    }\n",
       "\n",
       "    .dataframe tbody tr th {\n",
       "        vertical-align: top;\n",
       "    }\n",
       "\n",
       "    .dataframe thead th {\n",
       "        text-align: right;\n",
       "    }\n",
       "</style>\n",
       "<table border=\"1\" class=\"dataframe\">\n",
       "  <thead>\n",
       "    <tr style=\"text-align: right;\">\n",
       "      <th></th>\n",
       "      <th>categorical_feature_1</th>\n",
       "      <th>categorical_feature_2</th>\n",
       "      <th>continuous_feature</th>\n",
       "    </tr>\n",
       "  </thead>\n",
       "  <tbody>\n",
       "    <tr>\n",
       "      <th>record_0</th>\n",
       "      <td>0.719656</td>\n",
       "      <td>1.248266</td>\n",
       "      <td>0.132761</td>\n",
       "    </tr>\n",
       "    <tr>\n",
       "      <th>record_1</th>\n",
       "      <td>0.443704</td>\n",
       "      <td>0.883409</td>\n",
       "      <td>0.165393</td>\n",
       "    </tr>\n",
       "    <tr>\n",
       "      <th>record_2</th>\n",
       "      <td>0.639035</td>\n",
       "      <td>1.197025</td>\n",
       "      <td>0.025025</td>\n",
       "    </tr>\n",
       "    <tr>\n",
       "      <th>record_3</th>\n",
       "      <td>0.973244</td>\n",
       "      <td>1.412813</td>\n",
       "      <td>0.790042</td>\n",
       "    </tr>\n",
       "    <tr>\n",
       "      <th>record_4</th>\n",
       "      <td>0.619812</td>\n",
       "      <td>0.533180</td>\n",
       "      <td>0.025669</td>\n",
       "    </tr>\n",
       "  </tbody>\n",
       "</table>\n",
       "</div>"
      ],
      "text/plain": [
       "          categorical_feature_1  categorical_feature_2  continuous_feature\n",
       "record_0               0.719656               1.248266            0.132761\n",
       "record_1               0.443704               0.883409            0.165393\n",
       "record_2               0.639035               1.197025            0.025025\n",
       "record_3               0.973244               1.412813            0.790042\n",
       "record_4               0.619812               0.533180            0.025669"
      ]
     },
     "execution_count": 11,
     "metadata": {},
     "output_type": "execute_result"
    }
   ],
   "source": [
    "df_loss_by_record = anomaly_detector.compute_reconstruction_loss_by_record(df_records_for_loss_computation)\n",
    "\n",
    "df_loss_by_record"
   ]
  },
  {
   "cell_type": "code",
   "execution_count": 12,
   "metadata": {},
   "outputs": [
    {
     "data": {
      "text/plain": [
       "record_0    0.700228\n",
       "record_1    0.497502\n",
       "record_2    0.620362\n",
       "record_3    1.058700\n",
       "record_4    0.392887\n",
       "dtype: float64"
      ]
     },
     "execution_count": 12,
     "metadata": {},
     "output_type": "execute_result"
    }
   ],
   "source": [
    "sr_loss_by_record = anomaly_detector.compute_reconstruction_loss_by_record(\n",
    "    df_records_for_loss_computation,\n",
    "    average_over_features=True\n",
    "    )\n",
    "    \n",
    "sr_loss_by_record"
   ]
  },
  {
   "cell_type": "code",
   "execution_count": 13,
   "metadata": {},
   "outputs": [
    {
     "data": {
      "text/plain": [
       "categorical_feature_2    1.054939\n",
       "categorical_feature_1    0.679090\n",
       "continuous_feature       0.227778\n",
       "dtype: float64"
      ]
     },
     "execution_count": 13,
     "metadata": {},
     "output_type": "execute_result"
    }
   ],
   "source": [
    "sr_loss_by_feature = anomaly_detector.compute_reconstruction_loss_by_feature(df_records_for_loss_computation)\n",
    "\n",
    "sr_loss_by_feature"
   ]
  },
  {
   "cell_type": "code",
   "execution_count": 14,
   "metadata": {},
   "outputs": [
    {
     "name": "stdout",
     "output_type": "stream",
     "text": [
      "Mean reconstruction loss---average over records, then average over features---:\n",
      "0.6539356868956684\n"
     ]
    }
   ],
   "source": [
    "mean_loss = anomaly_detector.compute_mean_reconstruction_loss(df_records_for_loss_computation)\n",
    "print('Mean reconstruction loss---average over records, then average over features---:')\n",
    "print(mean_loss)"
   ]
  },
  {
   "cell_type": "markdown",
   "metadata": {},
   "source": [
    "## Encodings (Latent Space Representations)"
   ]
  },
  {
   "cell_type": "code",
   "execution_count": 15,
   "metadata": {},
   "outputs": [
    {
     "data": {
      "text/plain": [
       "tensor([[-0.0028, -0.0086,  0.0711,  ...,  0.1375, -0.0020, -0.0019],\n",
       "        [-0.0039,  0.2057, -0.0028,  ...,  0.1241, -0.0050, -0.0055],\n",
       "        [-0.0041,  0.1287,  0.1044,  ...,  0.2027, -0.0027, -0.0025],\n",
       "        ...,\n",
       "        [ 0.6445,  0.3131, -0.0174,  ..., -0.0099, -0.0100, -0.0110],\n",
       "        [-0.0200,  0.5658,  0.3533,  ...,  0.6931, -0.0115, -0.0112],\n",
       "        [-0.0200,  0.5658,  0.3534,  ...,  0.6931, -0.0115, -0.0112]])"
      ]
     },
     "execution_count": 15,
     "metadata": {},
     "output_type": "execute_result"
    }
   ],
   "source": [
    "original_records = df\n",
    "t_encoded_records = anomaly_detector.encode(original_records)\n",
    "\n",
    "t_encoded_records # t_encoded_records shape: (n_input_records, dim_latent_rep)"
   ]
  },
  {
   "cell_type": "markdown",
   "metadata": {},
   "source": [
    "## Reconstructions"
   ]
  },
  {
   "cell_type": "code",
   "execution_count": 16,
   "metadata": {},
   "outputs": [
    {
     "data": {
      "text/html": [
       "<div>\n",
       "<style scoped>\n",
       "    .dataframe tbody tr th:only-of-type {\n",
       "        vertical-align: middle;\n",
       "    }\n",
       "\n",
       "    .dataframe tbody tr th {\n",
       "        vertical-align: top;\n",
       "    }\n",
       "\n",
       "    .dataframe thead th {\n",
       "        text-align: right;\n",
       "    }\n",
       "</style>\n",
       "<table border=\"1\" class=\"dataframe\">\n",
       "  <thead>\n",
       "    <tr style=\"text-align: right;\">\n",
       "      <th></th>\n",
       "      <th>continuous_feature</th>\n",
       "      <th>categorical_feature_1</th>\n",
       "      <th>categorical_feature_2</th>\n",
       "      <th>anomaly</th>\n",
       "    </tr>\n",
       "  </thead>\n",
       "  <tbody>\n",
       "    <tr>\n",
       "      <th>record_10</th>\n",
       "      <td>0.014404</td>\n",
       "      <td>3</td>\n",
       "      <td>place</td>\n",
       "      <td>False</td>\n",
       "    </tr>\n",
       "    <tr>\n",
       "      <th>record_11</th>\n",
       "      <td>0.145427</td>\n",
       "      <td>5</td>\n",
       "      <td>hide</td>\n",
       "      <td>False</td>\n",
       "    </tr>\n",
       "    <tr>\n",
       "      <th>record_12</th>\n",
       "      <td>0.076104</td>\n",
       "      <td>4</td>\n",
       "      <td>to</td>\n",
       "      <td>False</td>\n",
       "    </tr>\n",
       "    <tr>\n",
       "      <th>record_13</th>\n",
       "      <td>0.012168</td>\n",
       "      <td>5</td>\n",
       "      <td>hide</td>\n",
       "      <td>False</td>\n",
       "    </tr>\n",
       "    <tr>\n",
       "      <th>record_14</th>\n",
       "      <td>0.044386</td>\n",
       "      <td>5</td>\n",
       "      <td>hide</td>\n",
       "      <td>False</td>\n",
       "    </tr>\n",
       "  </tbody>\n",
       "</table>\n",
       "</div>"
      ],
      "text/plain": [
       "           continuous_feature categorical_feature_1 categorical_feature_2  \\\n",
       "record_10            0.014404                     3                 place   \n",
       "record_11            0.145427                     5                  hide   \n",
       "record_12            0.076104                     4                    to   \n",
       "record_13            0.012168                     5                  hide   \n",
       "record_14            0.044386                     5                  hide   \n",
       "\n",
       "           anomaly  \n",
       "record_10    False  \n",
       "record_11    False  \n",
       "record_12    False  \n",
       "record_13    False  \n",
       "record_14    False  "
      ]
     },
     "metadata": {},
     "output_type": "display_data"
    },
    {
     "name": "stdout",
     "output_type": "stream",
     "text": [
      "\n",
      "\n"
     ]
    },
    {
     "data": {
      "text/html": [
       "<div>\n",
       "<style scoped>\n",
       "    .dataframe tbody tr th:only-of-type {\n",
       "        vertical-align: middle;\n",
       "    }\n",
       "\n",
       "    .dataframe tbody tr th {\n",
       "        vertical-align: top;\n",
       "    }\n",
       "\n",
       "    .dataframe thead th {\n",
       "        text-align: right;\n",
       "    }\n",
       "</style>\n",
       "<table border=\"1\" class=\"dataframe\">\n",
       "  <thead>\n",
       "    <tr style=\"text-align: right;\">\n",
       "      <th></th>\n",
       "      <th>continuous_feature_recon</th>\n",
       "      <th>categorical_feature_1_recon</th>\n",
       "      <th>categorical_feature_2_recon</th>\n",
       "    </tr>\n",
       "  </thead>\n",
       "  <tbody>\n",
       "    <tr>\n",
       "      <th>record_10</th>\n",
       "      <td>0.086449</td>\n",
       "      <td>3</td>\n",
       "      <td>place</td>\n",
       "    </tr>\n",
       "    <tr>\n",
       "      <th>record_11</th>\n",
       "      <td>0.135612</td>\n",
       "      <td>5</td>\n",
       "      <td>has</td>\n",
       "    </tr>\n",
       "    <tr>\n",
       "      <th>record_12</th>\n",
       "      <td>0.152447</td>\n",
       "      <td>4</td>\n",
       "      <td>to</td>\n",
       "    </tr>\n",
       "    <tr>\n",
       "      <th>record_13</th>\n",
       "      <td>0.089000</td>\n",
       "      <td>5</td>\n",
       "      <td>hide</td>\n",
       "    </tr>\n",
       "    <tr>\n",
       "      <th>record_14</th>\n",
       "      <td>0.099760</td>\n",
       "      <td>5</td>\n",
       "      <td>hide</td>\n",
       "    </tr>\n",
       "  </tbody>\n",
       "</table>\n",
       "</div>"
      ],
      "text/plain": [
       "           continuous_feature_recon categorical_feature_1_recon  \\\n",
       "record_10                  0.086449                           3   \n",
       "record_11                  0.135612                           5   \n",
       "record_12                  0.152447                           4   \n",
       "record_13                  0.089000                           5   \n",
       "record_14                  0.099760                           5   \n",
       "\n",
       "          categorical_feature_2_recon  \n",
       "record_10                       place  \n",
       "record_11                         has  \n",
       "record_12                          to  \n",
       "record_13                        hide  \n",
       "record_14                        hide  "
      ]
     },
     "metadata": {},
     "output_type": "display_data"
    }
   ],
   "source": [
    "original_data = df.iloc[10:15,:]\n",
    "\n",
    "reconstructed_data = anomaly_detector.reconstruct(original_data)\n",
    "\n",
    "display(original_data)\n",
    "print('\\n')\n",
    "display(reconstructed_data)"
   ]
  },
  {
   "cell_type": "code",
   "execution_count": 17,
   "metadata": {},
   "outputs": [
    {
     "data": {
      "text/plain": [
       "continuous_feature       0.176405\n",
       "categorical_feature_1           5\n",
       "categorical_feature_2        hide\n",
       "anomaly                     False\n",
       "Name: record_0, dtype: object"
      ]
     },
     "metadata": {},
     "output_type": "display_data"
    },
    {
     "name": "stdout",
     "output_type": "stream",
     "text": [
      "\n",
      "\n"
     ]
    },
    {
     "data": {
      "text/html": [
       "<div>\n",
       "<style scoped>\n",
       "    .dataframe tbody tr th:only-of-type {\n",
       "        vertical-align: middle;\n",
       "    }\n",
       "\n",
       "    .dataframe tbody tr th {\n",
       "        vertical-align: top;\n",
       "    }\n",
       "\n",
       "    .dataframe thead th {\n",
       "        text-align: right;\n",
       "    }\n",
       "</style>\n",
       "<table border=\"1\" class=\"dataframe\">\n",
       "  <thead>\n",
       "    <tr style=\"text-align: right;\">\n",
       "      <th></th>\n",
       "      <th>continuous_feature_recon</th>\n",
       "      <th>categorical_feature_1_recon</th>\n",
       "      <th>categorical_feature_2_recon</th>\n",
       "    </tr>\n",
       "  </thead>\n",
       "  <tbody>\n",
       "    <tr>\n",
       "      <th>record_0</th>\n",
       "      <td>0.140426</td>\n",
       "      <td>5</td>\n",
       "      <td>has</td>\n",
       "    </tr>\n",
       "  </tbody>\n",
       "</table>\n",
       "</div>"
      ],
      "text/plain": [
       "          continuous_feature_recon categorical_feature_1_recon  \\\n",
       "record_0                  0.140426                           5   \n",
       "\n",
       "         categorical_feature_2_recon  \n",
       "record_0                         has  "
      ]
     },
     "metadata": {},
     "output_type": "display_data"
    }
   ],
   "source": [
    "original_data = df.iloc[0]\n",
    "\n",
    "reconstructed_data = anomaly_detector.reconstruct(original_data)\n",
    "\n",
    "display(original_data)\n",
    "print('\\n')\n",
    "display(reconstructed_data)"
   ]
  },
  {
   "cell_type": "markdown",
   "metadata": {},
   "source": [
    "## Anomaly Detection"
   ]
  },
  {
   "cell_type": "code",
   "execution_count": 28,
   "metadata": {},
   "outputs": [
    {
     "data": {
      "text/html": [
       "<div>\n",
       "<style scoped>\n",
       "    .dataframe tbody tr th:only-of-type {\n",
       "        vertical-align: middle;\n",
       "    }\n",
       "\n",
       "    .dataframe tbody tr th {\n",
       "        vertical-align: top;\n",
       "    }\n",
       "\n",
       "    .dataframe thead th {\n",
       "        text-align: right;\n",
       "    }\n",
       "</style>\n",
       "<table border=\"1\" class=\"dataframe\">\n",
       "  <thead>\n",
       "    <tr style=\"text-align: right;\">\n",
       "      <th></th>\n",
       "      <th>loss</th>\n",
       "      <th>index</th>\n",
       "      <th>continuous_feature</th>\n",
       "      <th>categorical_feature_1</th>\n",
       "      <th>categorical_feature_2</th>\n",
       "      <th>anomaly</th>\n",
       "    </tr>\n",
       "    <tr>\n",
       "      <th>loss_rank</th>\n",
       "      <th></th>\n",
       "      <th></th>\n",
       "      <th></th>\n",
       "      <th></th>\n",
       "      <th></th>\n",
       "      <th></th>\n",
       "    </tr>\n",
       "  </thead>\n",
       "  <tbody>\n",
       "    <tr>\n",
       "      <th>0</th>\n",
       "      <td>2.948409</td>\n",
       "      <td>record_3752</td>\n",
       "      <td>-0.374010</td>\n",
       "      <td>1</td>\n",
       "      <td>has</td>\n",
       "      <td>False</td>\n",
       "    </tr>\n",
       "    <tr>\n",
       "      <th>1</th>\n",
       "      <td>2.495096</td>\n",
       "      <td>record_6727</td>\n",
       "      <td>-0.306921</td>\n",
       "      <td>2</td>\n",
       "      <td>no</td>\n",
       "      <td>False</td>\n",
       "    </tr>\n",
       "    <tr>\n",
       "      <th>2</th>\n",
       "      <td>2.485341</td>\n",
       "      <td>record_3679</td>\n",
       "      <td>-0.339230</td>\n",
       "      <td>1</td>\n",
       "      <td>has</td>\n",
       "      <td>False</td>\n",
       "    </tr>\n",
       "    <tr>\n",
       "      <th>3</th>\n",
       "      <td>2.403594</td>\n",
       "      <td>record_4469</td>\n",
       "      <td>-0.300744</td>\n",
       "      <td>2</td>\n",
       "      <td>no</td>\n",
       "      <td>False</td>\n",
       "    </tr>\n",
       "    <tr>\n",
       "      <th>4</th>\n",
       "      <td>2.363210</td>\n",
       "      <td>record_8457</td>\n",
       "      <td>-0.297975</td>\n",
       "      <td>2</td>\n",
       "      <td>no</td>\n",
       "      <td>False</td>\n",
       "    </tr>\n",
       "    <tr>\n",
       "      <th>...</th>\n",
       "      <td>...</td>\n",
       "      <td>...</td>\n",
       "      <td>...</td>\n",
       "      <td>...</td>\n",
       "      <td>...</td>\n",
       "      <td>...</td>\n",
       "    </tr>\n",
       "    <tr>\n",
       "      <th>96</th>\n",
       "      <td>1.804536</td>\n",
       "      <td>record_10007</td>\n",
       "      <td>-0.100108</td>\n",
       "      <td>3</td>\n",
       "      <td>fraud</td>\n",
       "      <td>True</td>\n",
       "    </tr>\n",
       "    <tr>\n",
       "      <th>97</th>\n",
       "      <td>1.804532</td>\n",
       "      <td>record_10045</td>\n",
       "      <td>-0.100104</td>\n",
       "      <td>3</td>\n",
       "      <td>fraud</td>\n",
       "      <td>True</td>\n",
       "    </tr>\n",
       "    <tr>\n",
       "      <th>98</th>\n",
       "      <td>1.804498</td>\n",
       "      <td>record_10066</td>\n",
       "      <td>-0.100078</td>\n",
       "      <td>3</td>\n",
       "      <td>fraud</td>\n",
       "      <td>True</td>\n",
       "    </tr>\n",
       "    <tr>\n",
       "      <th>99</th>\n",
       "      <td>1.804493</td>\n",
       "      <td>record_10051</td>\n",
       "      <td>-0.100074</td>\n",
       "      <td>3</td>\n",
       "      <td>fraud</td>\n",
       "      <td>True</td>\n",
       "    </tr>\n",
       "    <tr>\n",
       "      <th>100</th>\n",
       "      <td>1.804455</td>\n",
       "      <td>record_10081</td>\n",
       "      <td>-0.100045</td>\n",
       "      <td>3</td>\n",
       "      <td>fraud</td>\n",
       "      <td>True</td>\n",
       "    </tr>\n",
       "  </tbody>\n",
       "</table>\n",
       "<p>101 rows × 6 columns</p>\n",
       "</div>"
      ],
      "text/plain": [
       "               loss         index  continuous_feature categorical_feature_1  \\\n",
       "loss_rank                                                                     \n",
       "0          2.948409   record_3752           -0.374010                     1   \n",
       "1          2.495096   record_6727           -0.306921                     2   \n",
       "2          2.485341   record_3679           -0.339230                     1   \n",
       "3          2.403594   record_4469           -0.300744                     2   \n",
       "4          2.363210   record_8457           -0.297975                     2   \n",
       "...             ...           ...                 ...                   ...   \n",
       "96         1.804536  record_10007           -0.100108                     3   \n",
       "97         1.804532  record_10045           -0.100104                     3   \n",
       "98         1.804498  record_10066           -0.100078                     3   \n",
       "99         1.804493  record_10051           -0.100074                     3   \n",
       "100        1.804455  record_10081           -0.100045                     3   \n",
       "\n",
       "          categorical_feature_2  anomaly  \n",
       "loss_rank                                 \n",
       "0                           has    False  \n",
       "1                            no    False  \n",
       "2                           has    False  \n",
       "3                            no    False  \n",
       "4                            no    False  \n",
       "...                         ...      ...  \n",
       "96                        fraud     True  \n",
       "97                        fraud     True  \n",
       "98                        fraud     True  \n",
       "99                        fraud     True  \n",
       "100                       fraud     True  \n",
       "\n",
       "[101 rows x 6 columns]"
      ]
     },
     "execution_count": 28,
     "metadata": {},
     "output_type": "execute_result"
    }
   ],
   "source": [
    "df_anomalies = anomaly_detector.detect_anomalies(df)\n",
    "df_anomalies"
   ]
  },
  {
   "cell_type": "code",
   "execution_count": 29,
   "metadata": {},
   "outputs": [
    {
     "name": "stdout",
     "output_type": "stream",
     "text": [
      "Anomaly Detection Evaluation:\n",
      "\n",
      "\n",
      "n_tp: 70\n",
      "n_fp: 31\n",
      "n_tn: 9969\n",
      "n_fn: 30\n",
      "\n",
      "\n",
      "precision: 0.693069306930693\n",
      "recall: 0.7\n",
      "f1: 0.6965174129353233\n"
     ]
    }
   ],
   "source": [
    "idx_anom = df_anomalies['index'].tolist()\n",
    "n_tp = len(df_anomalies[df_anomalies['anomaly'] == True])\n",
    "n_fp = len(df_anomalies[df_anomalies['anomaly'] == False])\n",
    "n_tn = len(df[(~df.index.isin(idx_anom)) & (df['anomaly']==False)])\n",
    "n_fn = len(df[(~df.index.isin(idx_anom)) & (df['anomaly']==True)])\n",
    "\n",
    "precision = n_tp/(n_tp + n_fp)\n",
    "recall = n_tp/(n_tp + n_fn)\n",
    "f1=2*precision*recall/(precision+recall)\n",
    "\n",
    "print('Anomaly Detection Evaluation:')\n",
    "\n",
    "print('\\n')\n",
    "print(f'n_tp: {n_tp}')\n",
    "print(f'n_fp: {n_fp}')\n",
    "print(f'n_tn: {n_tn}')\n",
    "print(f'n_fn: {n_fn}')\n",
    "\n",
    "print('\\n')\n",
    "print(f'precision: {precision}')\n",
    "print(f'recall: {recall}')\n",
    "print(f'f1: {f1}')"
   ]
  },
  {
   "cell_type": "code",
   "execution_count": 31,
   "metadata": {},
   "outputs": [
    {
     "data": {
      "text/plain": [
       "continuous_feature       0.877379\n",
       "categorical_feature_2    0.681765\n",
       "categorical_feature_1    0.334016\n",
       "dtype: float64"
      ]
     },
     "execution_count": 31,
     "metadata": {},
     "output_type": "execute_result"
    }
   ],
   "source": [
    "anomaly_detector.compute_reconstruction_loss_by_feature(df[df['anomaly'] == False])"
   ]
  },
  {
   "cell_type": "code",
   "execution_count": 32,
   "metadata": {},
   "outputs": [
    {
     "data": {
      "text/plain": [
       "categorical_feature_2    3.728619\n",
       "continuous_feature       1.514277\n",
       "categorical_feature_1    0.400242\n",
       "dtype: float64"
      ]
     },
     "execution_count": 32,
     "metadata": {},
     "output_type": "execute_result"
    }
   ],
   "source": [
    "anomaly_detector.compute_reconstruction_loss_by_feature(df[df['anomaly'] == True])"
   ]
  },
  {
   "cell_type": "markdown",
   "metadata": {},
   "source": [
    "The model ranks the features by <span style=\"color: red;\">anomaly risk</span> as follows:\n",
    "\n",
    "<span style=\"color: red;\">*categorical_feature_2*</span> is the most suspicious,\n",
    "\n",
    "<span style=\"color: orange;\">*continuous_feature*</span> comes in second,\n",
    "\n",
    "<span style=\"color: green;\">*categorical_feature_1*</span> comes in last, with a clear separation from the rest.\n",
    "\n",
    "Recalling the data generation procdeudre, this is to be expected.\n",
    "\n",
    "In <span style=\"color: green;\">normal</span> records, *categorical_feature_2* was derived from *categorical_feature_1* using a fixed mapping.\n",
    "In <span style=\"color: red;\">anomalous</span> data, this mapping was distorted. This was indeed the primary <span style=\"color: red;\">anomaly</span> introduced in the synthetic dataset.\n",
    "\n",
    "<span style=\"color: red;\">Anomalous</span> records also had their *continuous_feature* values distorted. Recall however, that this distortion was subtle.\n",
    "Rather than being sampled from $\\mathcal{N(0,1)}$---as in <span style=\"color: green;\">normal</span> data---<span style=\"color: red;\">anomalous</span> values were sampled from $\\mathcal{N(-0.1, 0.0001)}$. The data misleadingly appears in-distribution: outlier detection methods conditioning on zscores/ MAD would not work. The model detects the <span style=\"color: red;\">anomaly</span> and---as expected---reacts to it less strongly than it did to the categorical mapping distortion.\n",
    "\n",
    "The model considers *categorical_feature_1* to be <span style=\"color: green;\">anomaly-free</span>. Indeed, the data generation procedure was the same for <span style=\"color: red;\">normal</span> and <span style=\"color: red;\">anomalous</span> records alike."
   ]
  }
 ],
 "metadata": {
  "kernelspec": {
   "display_name": "deep_learning",
   "language": "python",
   "name": "python3"
  },
  "language_info": {
   "codemirror_mode": {
    "name": "ipython",
    "version": 3
   },
   "file_extension": ".py",
   "mimetype": "text/x-python",
   "name": "python",
   "nbconvert_exporter": "python",
   "pygments_lexer": "ipython3",
   "version": "3.11.5"
  },
  "orig_nbformat": 4
 },
 "nbformat": 4,
 "nbformat_minor": 2
}
