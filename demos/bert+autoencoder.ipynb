{
 "cells": [
  {
   "cell_type": "code",
   "execution_count": 2,
   "metadata": {},
   "outputs": [
    {
     "name": "stdout",
     "output_type": "stream",
     "text": [
      "c:\\Users\\hector.papoulias\\Desktop\\Docs\\Repos\\transaction_anomaly_detection\\demos\n",
      "c:\\Users\\hector.papoulias\\Desktop\\Docs\\Repos\\transaction_anomaly_detection\n"
     ]
    }
   ],
   "source": [
    "import os\n",
    "from pathlib import Path\n",
    "\n",
    "cwd = Path(os.getcwd())\n",
    "print(cwd)\n",
    "root = cwd.parent\n",
    "os.chdir(root)\n",
    "print(root)"
   ]
  },
  {
   "cell_type": "code",
   "execution_count": 3,
   "metadata": {},
   "outputs": [],
   "source": [
    "import seaborn as sns\n",
    "sns.set_theme(style=\"whitegrid\", palette=\"dark:#5A9_r\")"
   ]
  },
  {
   "cell_type": "markdown",
   "metadata": {},
   "source": [
    "# Synthetic Data Generation"
   ]
  },
  {
   "cell_type": "code",
   "execution_count": 137,
   "metadata": {},
   "outputs": [
    {
     "data": {
      "text/html": [
       "<div>\n",
       "<style scoped>\n",
       "    .dataframe tbody tr th:only-of-type {\n",
       "        vertical-align: middle;\n",
       "    }\n",
       "\n",
       "    .dataframe tbody tr th {\n",
       "        vertical-align: top;\n",
       "    }\n",
       "\n",
       "    .dataframe thead th {\n",
       "        text-align: right;\n",
       "    }\n",
       "</style>\n",
       "<table border=\"1\" class=\"dataframe\">\n",
       "  <thead>\n",
       "    <tr style=\"text-align: right;\">\n",
       "      <th></th>\n",
       "      <th>continuous_feature</th>\n",
       "      <th>anomaly</th>\n",
       "    </tr>\n",
       "  </thead>\n",
       "  <tbody>\n",
       "    <tr>\n",
       "      <th>0</th>\n",
       "      <td>0.176405</td>\n",
       "      <td>False</td>\n",
       "    </tr>\n",
       "    <tr>\n",
       "      <th>1</th>\n",
       "      <td>0.040016</td>\n",
       "      <td>False</td>\n",
       "    </tr>\n",
       "    <tr>\n",
       "      <th>2</th>\n",
       "      <td>0.097874</td>\n",
       "      <td>False</td>\n",
       "    </tr>\n",
       "    <tr>\n",
       "      <th>3</th>\n",
       "      <td>0.224089</td>\n",
       "      <td>False</td>\n",
       "    </tr>\n",
       "    <tr>\n",
       "      <th>4</th>\n",
       "      <td>0.186756</td>\n",
       "      <td>False</td>\n",
       "    </tr>\n",
       "    <tr>\n",
       "      <th>...</th>\n",
       "      <td>...</td>\n",
       "      <td>...</td>\n",
       "    </tr>\n",
       "    <tr>\n",
       "      <th>10095</th>\n",
       "      <td>-0.100000</td>\n",
       "      <td>True</td>\n",
       "    </tr>\n",
       "    <tr>\n",
       "      <th>10096</th>\n",
       "      <td>-0.250000</td>\n",
       "      <td>True</td>\n",
       "    </tr>\n",
       "    <tr>\n",
       "      <th>10097</th>\n",
       "      <td>0.080000</td>\n",
       "      <td>True</td>\n",
       "    </tr>\n",
       "    <tr>\n",
       "      <th>10098</th>\n",
       "      <td>-0.010000</td>\n",
       "      <td>True</td>\n",
       "    </tr>\n",
       "    <tr>\n",
       "      <th>10099</th>\n",
       "      <td>-0.090000</td>\n",
       "      <td>True</td>\n",
       "    </tr>\n",
       "  </tbody>\n",
       "</table>\n",
       "<p>10100 rows × 2 columns</p>\n",
       "</div>"
      ],
      "text/plain": [
       "       continuous_feature  anomaly\n",
       "0                0.176405    False\n",
       "1                0.040016    False\n",
       "2                0.097874    False\n",
       "3                0.224089    False\n",
       "4                0.186756    False\n",
       "...                   ...      ...\n",
       "10095           -0.100000     True\n",
       "10096           -0.250000     True\n",
       "10097            0.080000     True\n",
       "10098           -0.010000     True\n",
       "10099           -0.090000     True\n",
       "\n",
       "[10100 rows x 2 columns]"
      ]
     },
     "execution_count": 137,
     "metadata": {},
     "output_type": "execute_result"
    }
   ],
   "source": [
    "import pandas as pd\n",
    "import numpy as np\n",
    "\n",
    "n_normal_datapoints = 10000\n",
    "n_anomalous_datapoints = 100\n",
    "\n",
    "np.random.seed(0)\n",
    "\n",
    "# Generate in-distribution data\n",
    "data_normal = {\n",
    "    'continuous_feature': np.random.normal(loc=0, scale=0.1, size=n_normal_datapoints)\n",
    "}\n",
    "df_normal = pd.DataFrame(data_normal)\n",
    "df_normal['anomaly'] = False\n",
    "\n",
    "# Generate out-of-distribution data\n",
    "data_anomalies = {\n",
    "    'continuous_feature': np.random.normal(loc=0, scale=0.1, size=n_anomalous_datapoints)\n",
    "}\n",
    "df_anomalies = pd.DataFrame(data_anomalies)\n",
    "df_anomalies['continuous_feature'] = df_anomalies['continuous_feature'].apply(lambda x: round(x, 2))\n",
    "df_anomalies['anomaly'] = True\n",
    "\n",
    "# Join normal and anomalous datapoints to form synthetic dataset\n",
    "df=pd.concat([df_normal, df_anomalies]).reset_index(drop=True)\n",
    "df"
   ]
  },
  {
   "cell_type": "markdown",
   "metadata": {},
   "source": [
    "# BERT Encoder Training"
   ]
  },
  {
   "cell_type": "code",
   "execution_count": 82,
   "metadata": {},
   "outputs": [],
   "source": [
    "corpus = df['continuous_feature'].apply(lambda x: str(x)).tolist()\n",
    "\n",
    "character_tokens = list(\n",
    "    set(\n",
    "        \"\".join(corpus)\n",
    "        )\n",
    "    )\n",
    "\n",
    "max_str_len = max([len(str_example) for str_example in corpus])"
   ]
  },
  {
   "cell_type": "code",
   "execution_count": 92,
   "metadata": {},
   "outputs": [],
   "source": [
    "import torch.nn as nn\n",
    "from transaction_anomaly_detection.models.text_encoder import TextEncoder\n",
    "\n",
    "text_encoder = TextEncoder(\n",
    "    ls_tokens=character_tokens,\n",
    "    max_n_standard_tokens=max_str_len,\n",
    "    d_model=8,\n",
    "    n_encoder_layers=2,\n",
    "    n_parallel_heads_per_layer=2,\n",
    "    dim_feedforward=4*8,\n",
    "    activation=nn.GELU(),\n",
    "    layer_norm_eps=1e-5,\n",
    "    dropout_rate=0.3,\n",
    ")"
   ]
  },
  {
   "cell_type": "code",
   "execution_count": 93,
   "metadata": {},
   "outputs": [
    {
     "name": "stdout",
     "output_type": "stream",
     "text": [
      "n_params: 2016\n"
     ]
    }
   ],
   "source": [
    "print(f'n_params: {text_encoder.get_n_params()}')"
   ]
  },
  {
   "cell_type": "code",
   "execution_count": 94,
   "metadata": {},
   "outputs": [
    {
     "data": {
      "application/vnd.jupyter.widget-view+json": {
       "model_id": "b5e73195da614ec5b998c1e75e9a9fc6",
       "version_major": 2,
       "version_minor": 0
      },
      "text/plain": [
       "Training:   0%|          | 0/1 [00:00<?, ?it/s]"
      ]
     },
     "metadata": {},
     "output_type": "display_data"
    },
    {
     "name": "stdout",
     "output_type": "stream",
     "text": [
      "Min Val Loss @Epoch 95: 1.6030772924423218 \n"
     ]
    }
   ],
   "source": [
    "import numpy as np\n",
    "\n",
    "dict_loss_evolution_bert = text_encoder.fit(\n",
    "    corpus=corpus,\n",
    "    val_ratio=0.1,\n",
    "    sz_batch=512,\n",
    "    learning_rate=0.001,\n",
    "    patience=20,\n",
    "    loss_delta_threshold=0.001,\n",
    "    max_n_epochs=np.nan,\n",
    "    verbose=False\n",
    "    )"
   ]
  },
  {
   "cell_type": "code",
   "execution_count": 95,
   "metadata": {},
   "outputs": [
    {
     "data": {
      "text/plain": [
       "<matplotlib.legend.Legend at 0x1d4d9465290>"
      ]
     },
     "execution_count": 95,
     "metadata": {},
     "output_type": "execute_result"
    },
    {
     "data": {
      "image/png": "[encoded data removed]",
      "text/plain": [
       "<Figure size 1200x600 with 1 Axes>"
      ]
     },
     "metadata": {},
     "output_type": "display_data"
    }
   ],
   "source": [
    "import pandas as pd\n",
    "import matplotlib.pyplot as plt\n",
    "\n",
    "fig, ax = plt.subplots(\n",
    "    ncols=1,\n",
    "    nrows=1,\n",
    "    figsize=(12,6)\n",
    ")\n",
    "\n",
    "dict_loss_evolution_bert['train'].plot(ax = ax, rot=90, color='red')\n",
    "dict_loss_evolution_bert['val'].plot(ax = ax, rot=90, color='green')\n",
    "\n",
    "plt.title('Reconstruction Loss Evolution')\n",
    "plt.legend([\"Train Loss\", \"Validation Loss\"])"
   ]
  },
  {
   "cell_type": "code",
   "execution_count": 96,
   "metadata": {},
   "outputs": [
    {
     "data": {
      "text/plain": [
       "tensor(1.5412)"
      ]
     },
     "execution_count": 96,
     "metadata": {},
     "output_type": "execute_result"
    }
   ],
   "source": [
    "text_encoder.encode('1.23245678986').mean()"
   ]
  },
  {
   "cell_type": "code",
   "execution_count": 97,
   "metadata": {},
   "outputs": [
    {
     "data": {
      "text/plain": [
       "tensor(2.3062)"
      ]
     },
     "execution_count": 97,
     "metadata": {},
     "output_type": "execute_result"
    }
   ],
   "source": [
    "text_encoder.encode('1.23').mean()"
   ]
  },
  {
   "cell_type": "code",
   "execution_count": 139,
   "metadata": {},
   "outputs": [
    {
     "data": {
      "text/html": [
       "<div>\n",
       "<style scoped>\n",
       "    .dataframe tbody tr th:only-of-type {\n",
       "        vertical-align: middle;\n",
       "    }\n",
       "\n",
       "    .dataframe tbody tr th {\n",
       "        vertical-align: top;\n",
       "    }\n",
       "\n",
       "    .dataframe thead th {\n",
       "        text-align: right;\n",
       "    }\n",
       "</style>\n",
       "<table border=\"1\" class=\"dataframe\">\n",
       "  <thead>\n",
       "    <tr style=\"text-align: right;\">\n",
       "      <th></th>\n",
       "      <th>continuous_feature</th>\n",
       "      <th>anomaly</th>\n",
       "      <th>continuous_feature_repr</th>\n",
       "    </tr>\n",
       "  </thead>\n",
       "  <tbody>\n",
       "    <tr>\n",
       "      <th>0</th>\n",
       "      <td>0.176405</td>\n",
       "      <td>False</td>\n",
       "      <td>1.407512</td>\n",
       "    </tr>\n",
       "    <tr>\n",
       "      <th>1</th>\n",
       "      <td>0.040016</td>\n",
       "      <td>False</td>\n",
       "      <td>1.335750</td>\n",
       "    </tr>\n",
       "    <tr>\n",
       "      <th>2</th>\n",
       "      <td>0.097874</td>\n",
       "      <td>False</td>\n",
       "      <td>1.601030</td>\n",
       "    </tr>\n",
       "    <tr>\n",
       "      <th>3</th>\n",
       "      <td>0.224089</td>\n",
       "      <td>False</td>\n",
       "      <td>1.627482</td>\n",
       "    </tr>\n",
       "    <tr>\n",
       "      <th>4</th>\n",
       "      <td>0.186756</td>\n",
       "      <td>False</td>\n",
       "      <td>1.409330</td>\n",
       "    </tr>\n",
       "    <tr>\n",
       "      <th>...</th>\n",
       "      <td>...</td>\n",
       "      <td>...</td>\n",
       "      <td>...</td>\n",
       "    </tr>\n",
       "    <tr>\n",
       "      <th>10095</th>\n",
       "      <td>-0.100000</td>\n",
       "      <td>True</td>\n",
       "      <td>2.287279</td>\n",
       "    </tr>\n",
       "    <tr>\n",
       "      <th>10096</th>\n",
       "      <td>-0.250000</td>\n",
       "      <td>True</td>\n",
       "      <td>2.355516</td>\n",
       "    </tr>\n",
       "    <tr>\n",
       "      <th>10097</th>\n",
       "      <td>0.080000</td>\n",
       "      <td>True</td>\n",
       "      <td>2.006488</td>\n",
       "    </tr>\n",
       "    <tr>\n",
       "      <th>10098</th>\n",
       "      <td>-0.010000</td>\n",
       "      <td>True</td>\n",
       "      <td>2.283629</td>\n",
       "    </tr>\n",
       "    <tr>\n",
       "      <th>10099</th>\n",
       "      <td>-0.090000</td>\n",
       "      <td>True</td>\n",
       "      <td>2.270502</td>\n",
       "    </tr>\n",
       "  </tbody>\n",
       "</table>\n",
       "<p>10100 rows × 3 columns</p>\n",
       "</div>"
      ],
      "text/plain": [
       "       continuous_feature  anomaly  continuous_feature_repr\n",
       "0                0.176405    False                 1.407512\n",
       "1                0.040016    False                 1.335750\n",
       "2                0.097874    False                 1.601030\n",
       "3                0.224089    False                 1.627482\n",
       "4                0.186756    False                 1.409330\n",
       "...                   ...      ...                      ...\n",
       "10095           -0.100000     True                 2.287279\n",
       "10096           -0.250000     True                 2.355516\n",
       "10097            0.080000     True                 2.006488\n",
       "10098           -0.010000     True                 2.283629\n",
       "10099           -0.090000     True                 2.270502\n",
       "\n",
       "[10100 rows x 3 columns]"
      ]
     },
     "execution_count": 139,
     "metadata": {},
     "output_type": "execute_result"
    }
   ],
   "source": [
    "ls_bert_encodings = text_encoder.encode(df['continuous_feature'].apply(lambda x: str(x)).tolist())\n",
    "ls_bert_encodings = list(map(lambda x: x.mean().item(), ls_bert_encodings))\n",
    "df['continuous_feature_repr'] = ls_bert_encodings\n",
    "df"
   ]
  },
  {
   "cell_type": "markdown",
   "metadata": {},
   "source": [
    "# Autoencoder"
   ]
  },
  {
   "cell_type": "code",
   "execution_count": 110,
   "metadata": {},
   "outputs": [],
   "source": [
    "from transaction_anomaly_detection.models import TransactionAnomalyDetector\n",
    "import torch.nn as nn\n",
    "\n",
    "anomaly_detector = TransactionAnomalyDetector(\n",
    "    dict_cat_feature_to_ls_categories_n_embd={},\n",
    "    ls_con_features= ['continuous_feature', 'continuous_feature_repr'],\n",
    "    encoder_layer_szs=[1024, 512, 256, 128, 64, 32, 8, 4, 2],\n",
    "    ae_activation=nn.LeakyReLU(0.01),\n",
    "    dropout_rate=0.1,\n",
    "    batchswap_noise_rate=0.1\n",
    "    )"
   ]
  },
  {
   "cell_type": "code",
   "execution_count": 111,
   "metadata": {},
   "outputs": [
    {
     "name": "stdout",
     "output_type": "stream",
     "text": [
      "n_params: 1413622\n"
     ]
    }
   ],
   "source": [
    "print(f'n_params: {anomaly_detector.get_n_params()}')"
   ]
  },
  {
   "cell_type": "code",
   "execution_count": 112,
   "metadata": {},
   "outputs": [
    {
     "data": {
      "application/vnd.jupyter.widget-view+json": {
       "model_id": "2fe1a0f05cc64e01933aea6acf9b6b6d",
       "version_major": 2,
       "version_minor": 0
      },
      "text/plain": [
       "Training:   0%|          | 0/1 [00:00<?, ?it/s]"
      ]
     },
     "metadata": {},
     "output_type": "display_data"
    },
    {
     "name": "stdout",
     "output_type": "stream",
     "text": [
      "Min Val Loss @Epoch 302: 0.380766831060095 \n"
     ]
    }
   ],
   "source": [
    "import numpy as np\n",
    "\n",
    "dict_loss_evolution_ae = anomaly_detector.fit(\n",
    "    df_dataset=df,\n",
    "    sz_batch=512,\n",
    "    learning_rate=0.0001,\n",
    "    patience=25,\n",
    "    loss_delta_threshold=0.001,\n",
    "    max_n_epochs=np.inf,\n",
    "    val_ratio=0.1,\n",
    "    contamination=0.01,\n",
    "    verbose=False\n",
    "    )"
   ]
  },
  {
   "cell_type": "code",
   "execution_count": 113,
   "metadata": {},
   "outputs": [
    {
     "data": {
      "text/plain": [
       "<matplotlib.legend.Legend at 0x1d4d45d78d0>"
      ]
     },
     "execution_count": 113,
     "metadata": {},
     "output_type": "execute_result"
    },
    {
     "data": {
      "image/png": "[encoded data removed]",
      "text/plain": [
       "<Figure size 1200x600 with 1 Axes>"
      ]
     },
     "metadata": {},
     "output_type": "display_data"
    }
   ],
   "source": [
    "import pandas as pd\n",
    "import matplotlib.pyplot as plt\n",
    "\n",
    "fig, ax = plt.subplots(\n",
    "    ncols=1,\n",
    "    nrows=1,\n",
    "    figsize=(12,6)\n",
    ")\n",
    "\n",
    "dict_loss_evolution_ae['train'].plot(ax = ax, rot=90, color='red')\n",
    "dict_loss_evolution_ae['val'].plot(ax = ax, rot=90, color='green')\n",
    "\n",
    "plt.title('Reconstruction Loss Evolution')\n",
    "plt.legend([\"Train Loss\", \"Validation Loss\"])"
   ]
  },
  {
   "cell_type": "code",
   "execution_count": 141,
   "metadata": {},
   "outputs": [
    {
     "name": "stdout",
     "output_type": "stream",
     "text": [
      "Reconstruction Loss Threshold for Anomaly Detection: 2.2039041278129514\n"
     ]
    }
   ],
   "source": [
    "anomaly_detector.fit_reconstruction_loss_threshold(\n",
    "    df_dataset=df,\n",
    "    contamination=0.01\n",
    "    )\n",
    "print(f'Reconstruction Loss Threshold for Anomaly Detection: {anomaly_detector.reconstruction_loss_threshold}')"
   ]
  },
  {
   "cell_type": "code",
   "execution_count": 143,
   "metadata": {},
   "outputs": [
    {
     "data": {
      "text/html": [
       "<div>\n",
       "<style scoped>\n",
       "    .dataframe tbody tr th:only-of-type {\n",
       "        vertical-align: middle;\n",
       "    }\n",
       "\n",
       "    .dataframe tbody tr th {\n",
       "        vertical-align: top;\n",
       "    }\n",
       "\n",
       "    .dataframe thead th {\n",
       "        text-align: right;\n",
       "    }\n",
       "</style>\n",
       "<table border=\"1\" class=\"dataframe\">\n",
       "  <thead>\n",
       "    <tr style=\"text-align: right;\">\n",
       "      <th></th>\n",
       "      <th>loss</th>\n",
       "      <th>index</th>\n",
       "      <th>continuous_feature</th>\n",
       "      <th>anomaly</th>\n",
       "      <th>continuous_feature_repr</th>\n",
       "    </tr>\n",
       "    <tr>\n",
       "      <th>loss_rank</th>\n",
       "      <th></th>\n",
       "      <th></th>\n",
       "      <th></th>\n",
       "      <th></th>\n",
       "      <th></th>\n",
       "    </tr>\n",
       "  </thead>\n",
       "  <tbody>\n",
       "    <tr>\n",
       "      <th>0</th>\n",
       "      <td>13.572957</td>\n",
       "      <td>10024</td>\n",
       "      <td>-0.280000</td>\n",
       "      <td>True</td>\n",
       "      <td>2.412452</td>\n",
       "    </tr>\n",
       "    <tr>\n",
       "      <th>1</th>\n",
       "      <td>11.785123</td>\n",
       "      <td>10096</td>\n",
       "      <td>-0.250000</td>\n",
       "      <td>True</td>\n",
       "      <td>2.355516</td>\n",
       "    </tr>\n",
       "    <tr>\n",
       "      <th>2</th>\n",
       "      <td>10.166485</td>\n",
       "      <td>10060</td>\n",
       "      <td>-0.180000</td>\n",
       "      <td>True</td>\n",
       "      <td>2.387072</td>\n",
       "    </tr>\n",
       "    <tr>\n",
       "      <th>3</th>\n",
       "      <td>10.166485</td>\n",
       "      <td>10079</td>\n",
       "      <td>-0.180000</td>\n",
       "      <td>True</td>\n",
       "      <td>2.387072</td>\n",
       "    </tr>\n",
       "    <tr>\n",
       "      <th>4</th>\n",
       "      <td>9.623499</td>\n",
       "      <td>10084</td>\n",
       "      <td>-0.190000</td>\n",
       "      <td>True</td>\n",
       "      <td>2.324723</td>\n",
       "    </tr>\n",
       "    <tr>\n",
       "      <th>...</th>\n",
       "      <td>...</td>\n",
       "      <td>...</td>\n",
       "      <td>...</td>\n",
       "      <td>...</td>\n",
       "      <td>...</td>\n",
       "    </tr>\n",
       "    <tr>\n",
       "      <th>90</th>\n",
       "      <td>2.239063</td>\n",
       "      <td>6727</td>\n",
       "      <td>-0.306921</td>\n",
       "      <td>False</td>\n",
       "      <td>1.076914</td>\n",
       "    </tr>\n",
       "    <tr>\n",
       "      <th>91</th>\n",
       "      <td>2.226542</td>\n",
       "      <td>10029</td>\n",
       "      <td>0.210000</td>\n",
       "      <td>True</td>\n",
       "      <td>2.116396</td>\n",
       "    </tr>\n",
       "    <tr>\n",
       "      <th>92</th>\n",
       "      <td>2.215964</td>\n",
       "      <td>10088</td>\n",
       "      <td>0.050000</td>\n",
       "      <td>True</td>\n",
       "      <td>1.971351</td>\n",
       "    </tr>\n",
       "    <tr>\n",
       "      <th>93</th>\n",
       "      <td>2.215964</td>\n",
       "      <td>10083</td>\n",
       "      <td>0.050000</td>\n",
       "      <td>True</td>\n",
       "      <td>1.971351</td>\n",
       "    </tr>\n",
       "    <tr>\n",
       "      <th>94</th>\n",
       "      <td>2.206199</td>\n",
       "      <td>10013</td>\n",
       "      <td>0.000000</td>\n",
       "      <td>True</td>\n",
       "      <td>1.892873</td>\n",
       "    </tr>\n",
       "  </tbody>\n",
       "</table>\n",
       "<p>95 rows × 5 columns</p>\n",
       "</div>"
      ],
      "text/plain": [
       "                loss  index  continuous_feature  anomaly  \\\n",
       "loss_rank                                                  \n",
       "0          13.572957  10024           -0.280000     True   \n",
       "1          11.785123  10096           -0.250000     True   \n",
       "2          10.166485  10060           -0.180000     True   \n",
       "3          10.166485  10079           -0.180000     True   \n",
       "4           9.623499  10084           -0.190000     True   \n",
       "...              ...    ...                 ...      ...   \n",
       "90          2.239063   6727           -0.306921    False   \n",
       "91          2.226542  10029            0.210000     True   \n",
       "92          2.215964  10088            0.050000     True   \n",
       "93          2.215964  10083            0.050000     True   \n",
       "94          2.206199  10013            0.000000     True   \n",
       "\n",
       "           continuous_feature_repr  \n",
       "loss_rank                           \n",
       "0                         2.412452  \n",
       "1                         2.355516  \n",
       "2                         2.387072  \n",
       "3                         2.387072  \n",
       "4                         2.324723  \n",
       "...                            ...  \n",
       "90                        1.076914  \n",
       "91                        2.116396  \n",
       "92                        1.971351  \n",
       "93                        1.971351  \n",
       "94                        1.892873  \n",
       "\n",
       "[95 rows x 5 columns]"
      ]
     },
     "execution_count": 143,
     "metadata": {},
     "output_type": "execute_result"
    }
   ],
   "source": [
    "df_detected_anomalies = anomaly_detector.detect_anomalies(df)\n",
    "df_detected_anomalies"
   ]
  },
  {
   "cell_type": "code",
   "execution_count": 144,
   "metadata": {},
   "outputs": [
    {
     "name": "stdout",
     "output_type": "stream",
     "text": [
      "Anomaly Detection Evaluation:\n",
      "\n",
      "\n",
      "n_tp: 86\n",
      "n_fp: 9\n",
      "n_tn: 9991\n",
      "n_fn: 14\n",
      "\n",
      "\n",
      "precision: 0.9052631578947369\n",
      "recall: 0.86\n",
      "f1: 0.8820512820512821\n"
     ]
    }
   ],
   "source": [
    "idx_anom = df_detected_anomalies['original_index'].tolist()\n",
    "n_tp = len(df_detected_anomalies[df_detected_anomalies['anomaly'] == True])\n",
    "n_fp = len(df_detected_anomalies[df_detected_anomalies['anomaly'] == False])\n",
    "n_tn = len(df[(~df.index.isin(idx_anom)) & (df['anomaly']==False)])\n",
    "n_fn = len(df[(~df.index.isin(idx_anom)) & (df['anomaly']==True)])\n",
    "\n",
    "precision = n_tp/(n_tp + n_fp)\n",
    "recall = n_tp/(n_tp + n_fn)\n",
    "f1=2*precision*recall/(precision+recall)\n",
    "\n",
    "print('Anomaly Detection Evaluation:')\n",
    "\n",
    "print('\\n')\n",
    "print(f'n_tp: {n_tp}')\n",
    "print(f'n_fp: {n_fp}')\n",
    "print(f'n_tn: {n_tn}')\n",
    "print(f'n_fn: {n_fn}')\n",
    "\n",
    "print('\\n')\n",
    "print(f'precision: {precision}')\n",
    "print(f'recall: {recall}')\n",
    "print(f'f1: {f1}')"
   ]
  }
 ],
 "metadata": {
  "kernelspec": {
   "display_name": "deep_learning",
   "language": "python",
   "name": "python3"
  },
  "language_info": {
   "codemirror_mode": {
    "name": "ipython",
    "version": 3
   },
   "file_extension": ".py",
   "mimetype": "text/x-python",
   "name": "python",
   "nbconvert_exporter": "python",
   "pygments_lexer": "ipython3",
   "version": "3.12.0"
  },
  "orig_nbformat": 4
 },
 "nbformat": 4,
 "nbformat_minor": 2
}
